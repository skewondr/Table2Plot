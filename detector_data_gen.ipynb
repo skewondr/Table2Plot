{
 "cells": [
  {
   "cell_type": "code",
   "execution_count": null,
   "metadata": {},
   "outputs": [],
   "source": [
    "from matplotlib import pyplot as plt\n",
    "import numpy as np\n",
    "import json\n",
    "import os"
   ]
  },
  {
   "cell_type": "code",
   "execution_count": null,
   "metadata": {},
   "outputs": [],
   "source": [
    "root_dir = 'data'\n",
    "data_files = os.listdir(root_dir)[0], os.listdir(root_dir)[1]"
   ]
  },
  {
   "cell_type": "code",
   "execution_count": null,
   "metadata": {},
   "outputs": [],
   "source": [
    "with open(os.path.join(root_dir, data_files[0])) as f:\n",
    "    data = json.load(f)"
   ]
  },
  {
   "cell_type": "code",
   "execution_count": null,
   "metadata": {},
   "outputs": [],
   "source": [
    "header = tqa['TBL'][0]\n",
    "num_cols = len(header)\n",
    "temp_np_array = np.concatenate([np.array(row) for row in tqa['TBL']]).reshape(-1, num_cols)\n"
   ]
  },
  {
   "cell_type": "code",
   "execution_count": null,
   "metadata": {},
   "outputs": [],
   "source": [
    "errow_rows = []\n",
    "possible_tqa = []\n",
    "print(f\"> Processing {len(data['data'])} tables\")\n",
    "for i, tqa in enumerate(data['data']):\n",
    "    header = tqa['TBL'][0]\n",
    "    if '' in header:\n",
    "        errow_rows.append(i)\n",
    "        continue\n",
    "    num_cols = len(header)\n",
    "    error_in_table = False\n",
    "    for row in tqa['TBL']:\n",
    "        if len(row) != num_cols:\n",
    "            errow_rows.append((f'data_idx:{i}', row))\n",
    "            error_in_table = True\n",
    "    if not error_in_table:\n",
    "        cells = np.array(tqa['TBL'])[1:, 2:]\n",
    "        try:\n",
    "            cells = cells.astype(np.float)\n",
    "            possible_tqa.append(tqa)\n",
    "        except:\n",
    "            continue\n",
    "# possible_tqa = [dict(t) for t in set(tuple(sorted(d.items())) for d in possible_tqa)]\n",
    "print(f\"> Found {len(possible_tqa)} tables with numeric values ({len(possible_tqa)/len(data['data'])*100:.1f}%)\")"
   ]
  },
  {
   "cell_type": "code",
   "execution_count": null,
   "metadata": {},
   "outputs": [],
   "source": [
    "for tqa in possible_tqa:\n",
    "    header = tqa['TBL'][0]\n",
    "    num_cols = len(header)\n",
    "    print(header)"
   ]
  },
  {
   "cell_type": "code",
   "execution_count": null,
   "metadata": {},
   "outputs": [],
   "source": [
    "colors = ['black', 'dimgray', 'dimgrey', 'gray', 'grey', 'darkgray', 'darkgrey', 'silver', 'lightgray', 'lightgrey', 'gainsboro', 'whitesmoke', 'white', 'snow', 'rosybrown', 'lightcoral', 'indianred', 'brown', 'firebrick', 'maroon', 'darkred', 'red', 'mistyrose', 'salmon', 'tomato', 'darksalmon', 'coral', 'orangered', 'lightsalmon', 'sienna', 'seashell', 'chocolate', 'saddlebrown', 'sandybrown', 'peachpuff', 'peru', 'linen', 'bisque', 'darkorange', 'burlywood', 'antiquewhite', 'tan', 'navajowhite', 'blanchedalmond', 'papayawhip', 'moccasin', 'orange', 'wheat', 'oldlace', 'floralwhite', 'darkgoldenrod', 'goldenrod', 'cornsilk', 'gold', 'lemonchiffon', 'khaki', 'palegoldenrod', 'darkkhaki', 'ivory', 'beige', 'lightyellow', 'lightgoldenrodyellow', 'olive', 'yellow', 'olivedrab', 'yellowgreen', 'darkolivegreen', 'greenyellow', 'chartreuse', 'lawngreen', 'honeydew', 'darkseagreen', 'palegreen', 'lightgreen', 'forestgreen', 'limegreen', 'darkgreen', 'green', 'lime', 'seagreen', 'mediumseagreen', 'springgreen', 'mintcream', 'mediumspringgreen', 'mediumaquamarine', 'aquamarine', 'turquoise', 'lightseagreen', 'mediumturquoise', 'azure', 'lightcyan', 'paleturquoise', 'darkslategray', 'darkslategrey', 'teal', 'darkcyan', 'aqua', 'cyan', 'darkturquoise', 'cadetblue', 'powderblue', 'lightblue', 'deepskyblue', 'skyblue', 'lightskyblue', 'steelblue', 'aliceblue', 'dodgerblue', 'lightslategray', 'lightslategrey', 'slategray', 'slategrey', 'lightsteelblue', 'cornflowerblue', 'royalblue', 'ghostwhite', 'lavender', 'midnightblue', 'navy', 'darkblue', 'mediumblue', 'blue', 'slateblue', 'darkslateblue', 'mediumslateblue', 'mediumpurple', 'rebeccapurple', 'blueviolet', 'indigo', 'darkorchid', 'darkviolet', 'mediumorchid', 'thistle', 'plum', 'violet', 'purple', 'darkmagenta', 'fuchsia', 'magenta', 'orchid', 'mediumvioletred', 'deeppink', 'hotpink', 'lavenderblush', 'palevioletred', 'crimson', 'pink', 'lightpink']"
   ]
  },
  {
   "cell_type": "code",
   "execution_count": null,
   "metadata": {},
   "outputs": [],
   "source": [
    "tqa"
   ]
  },
  {
   "cell_type": "code",
   "execution_count": 96,
   "metadata": {},
   "outputs": [
    {
     "data": {
      "image/png": "[encoded data removed]",
      "text/plain": [
       "<Figure size 630x420 with 1 Axes>"
      ]
     },
     "metadata": {
      "needs_background": "light"
     },
     "output_type": "display_data"
    }
   ],
   "source": [
    "dpi = 105\n",
    "plt.rcParams['figure.dpi'] = dpi\n",
    "plt.rcParams['font.size'] = 7.\n",
    "plt.rcParams[\"font.family\"] = 'NanumGothicCoding'\n",
    "plt.rcParams['xtick.labelsize'] = 5.\n",
    "plt.rcParams['ytick.labelsize'] = 15.\n",
    "plt.rcParams['axes.labelsize'] = 20.\n",
    "\n",
    "\n",
    "dpi = 600\n",
    "fig, ax = plt.subplots()\n",
    "TBL = np.array(tqa['TBL'])\n",
    "\n",
    "header = TBL[0][2:]\n",
    "x = TBL[1:, 1]\n",
    "\n",
    "y_list = []\n",
    "for y in TBL[1:, 2:].T:\n",
    "    y_list.append(y.astype(np.float))\n",
    "\n",
    "selected_colors = np.random.choice(colors, len(y_list), replace=False)\n",
    "label2color = {label:selected_colors[i] for i, label in enumerate(header)}\n",
    "\n",
    "handles = [plt.Rectangle((0,0), 0, 0, color=label2color[label]) for i, label in enumerate(header)]\n",
    "plt.legend(handles, header)\n",
    "\n",
    "x_axis = np.arange(len(x))*2\n",
    "\n",
    "num_y = len(y_list)\n",
    "\n",
    "num_bars_per_tick = len(y_list)\n",
    "wid = 0.3\n",
    "diff_w = [wid * (i - (num_bars_per_tick-1)/2) for i in range(num_bars_per_tick)]\n",
    "bar_list = []\n",
    "val_list = []\n",
    "\n",
    "plt.ylim(TBL[1:, 2:].astype(np.float).min() * 0.7, TBL[1:, 2:].astype(np.float).max() * 1.2)\n",
    "\n",
    "for i, (y, label) in enumerate(zip(y_list, header)):\n",
    "    x_axis_temp = x_axis + diff_w[i]\n",
    "    temp_bar = plt.bar(x_axis + diff_w[i], y, wid, color=label2color[label])\n",
    "    bar_list.append(temp_bar)\n",
    "    for i, val in enumerate(y):\n",
    "        temp_val = plt.text(x_axis_temp[i], val, val,\n",
    "                    fontsize = 6, \n",
    "                    horizontalalignment='center',  # horizontalalignment (left, center, right)\n",
    "                    verticalalignment='bottom')    # verticalalignment (top, center, bottom)\n",
    "        val_list.append(temp_val)\n",
    "\n",
    "plt.xticks(x_axis, x)\n",
    "\n",
    "\n",
    "fig.autofmt_xdate()\n",
    "fig.savefig('./out.png', format='png', dpi=dpi)"
   ]
  },
  {
   "cell_type": "code",
   "execution_count": 91,
   "metadata": {},
   "outputs": [],
   "source": [
    "bboxes = []\n",
    "(x_min, y_min), (x_max, y_max) = ax.bbox.get_points()\n",
    "## bbox for ticks\n",
    "xtick_label_idx = 0\n",
    "for label in ax.get_xticklabels():\n",
    "    bbox = label.get_window_extent().get_points()\n",
    "    if bbox[0][0] < x_min or bbox[1][0] > x_max:\n",
    "        continue\n",
    "    bboxes.append((f'xtick_{xtick_label_idx}', bbox))\n",
    "    if i == 0:\n",
    "        print((f'xtick_{xtick_label_idx}', bbox))\n",
    "    xtick_label_idx += 1\n",
    "\n",
    "ytick_label_idx = 0\n",
    "for label in ax.get_yticklabels():\n",
    "    bbox = label.get_window_extent().get_points()\n",
    "    if bbox[0][1] < y_min or bbox[1][1] > y_max:\n",
    "        continue\n",
    "    bboxes.append((f'ytick_{ytick_label_idx}', bbox))\n",
    "    ytick_label_idx += 1\n",
    "    if i == 0:\n",
    "        print((f'ytick_{ytick_label_idx}', bbox))"
   ]
  },
  {
   "cell_type": "code",
   "execution_count": 92,
   "metadata": {},
   "outputs": [
    {
     "data": {
      "text/plain": [
       "[('xtick_0',\n",
       "  array([[ 87.83553084,  59.61346344],\n",
       "         [104.3928992 ,  73.79166667]])),\n",
       " ('xtick_1',\n",
       "  array([[110.83364672,  59.61346344],\n",
       "         [127.39101507,  73.79166667]])),\n",
       " ('xtick_2',\n",
       "  array([[121.27439424,  52.36346344],\n",
       "         [150.38913095,  73.79166667]])),\n",
       " ('xtick_3',\n",
       "  array([[150.55119429,  55.98846344],\n",
       "         [173.38724682,  73.79166667]])),\n",
       " ('xtick_4',\n",
       "  array([[160.99194181,  48.73846344],\n",
       "         [196.38536269,  73.79166667]])),\n",
       " ('xtick_5',\n",
       "  array([[171.43268933,  41.48846344],\n",
       "         [219.38347857,  73.79166667]])),\n",
       " ('xtick_6',\n",
       "  array([[219.54554191,  55.98846344],\n",
       "         [242.38159444,  73.79166667]])),\n",
       " ('xtick_7',\n",
       "  array([[236.26497361,  52.36346344],\n",
       "         [265.37971032,  73.79166667]])),\n",
       " ('xtick_8',\n",
       "  array([[265.54177366,  55.98846344],\n",
       "         [288.37782619,  73.79166667]])),\n",
       " ('xtick_9',\n",
       "  array([[288.53988953,  55.98846344],\n",
       "         [311.37594206,  73.79166667]])),\n",
       " ('xtick_10',\n",
       "  array([[305.25932123,  52.36346344],\n",
       "         [334.37405794,  73.79166667]])),\n",
       " ('xtick_11',\n",
       "  array([[309.42138457,  41.48846344],\n",
       "         [357.37217381,  73.79166667]])),\n",
       " ('xtick_12',\n",
       "  array([[363.81292133,  59.61346344],\n",
       "         [380.37028968,  73.79166667]])),\n",
       " ('xtick_13',\n",
       "  array([[374.25366885,  52.36346344],\n",
       "         [403.36840556,  73.79166667]])),\n",
       " ('xtick_14',\n",
       "  array([[397.25178472,  52.36346344],\n",
       "         [426.36652143,  73.79166667]])),\n",
       " ('xtick_15',\n",
       "  array([[420.2499006 ,  52.36346344],\n",
       "         [449.36463731,  73.79166667]])),\n",
       " ('xtick_16',\n",
       "  array([[443.24801647,  52.36346344],\n",
       "         [472.36275318,  73.79166667]])),\n",
       " ('xtick_17',\n",
       "  array([[459.96744817,  48.73846344],\n",
       "         [495.36086905,  73.79166667]])),\n",
       " ('xtick_18',\n",
       "  array([[489.24424822,  52.36346344],\n",
       "         [518.35898493,  73.79166667]])),\n",
       " ('xtick_19',\n",
       "  array([[518.52104827,  55.98846344],\n",
       "         [541.3571008 ,  73.79166667]])),\n",
       " ('ytick_0',\n",
       "  array([[ 46.54166667,  86.22983294],\n",
       "         [ 68.54166667, 105.22983294]])),\n",
       " ('ytick_1',\n",
       "  array([[ 46.54166667, 134.91718377],\n",
       "         [ 68.54166667, 153.91718377]])),\n",
       " ('ytick_2',\n",
       "  array([[ 46.54166667, 183.60453461],\n",
       "         [ 68.54166667, 202.60453461]])),\n",
       " ('ytick_3',\n",
       "  array([[ 46.54166667, 232.29188544],\n",
       "         [ 68.54166667, 251.29188544]])),\n",
       " ('ytick_4',\n",
       "  array([[ 46.54166667, 280.97923628],\n",
       "         [ 68.54166667, 299.97923628]])),\n",
       " ('ytick_5',\n",
       "  array([[ 35.54166667, 329.66658711],\n",
       "         [ 68.54166667, 348.66658711]]))]"
      ]
     },
     "execution_count": 92,
     "metadata": {},
     "output_type": "execute_result"
    }
   ],
   "source": [
    "bboxes"
   ]
  },
  {
   "cell_type": "code",
   "execution_count": 81,
   "metadata": {},
   "outputs": [],
   "source": [
    "x_min, y_min = p1"
   ]
  },
  {
   "cell_type": "code",
   "execution_count": null,
   "metadata": {},
   "outputs": [],
   "source": [
    "TBL[1:, 2:].astype(np.float).max()"
   ]
  },
  {
   "cell_type": "code",
   "execution_count": null,
   "metadata": {},
   "outputs": [],
   "source": [
    "tqa"
   ]
  },
  {
   "cell_type": "code",
   "execution_count": null,
   "metadata": {},
   "outputs": [],
   "source": []
  },
  {
   "cell_type": "code",
   "execution_count": null,
   "metadata": {},
   "outputs": [],
   "source": []
  },
  {
   "cell_type": "code",
   "execution_count": null,
   "metadata": {},
   "outputs": [],
   "source": [
    "len_x"
   ]
  },
  {
   "cell_type": "code",
   "execution_count": null,
   "metadata": {},
   "outputs": [],
   "source": [
    "dpi=150\n",
    "fig, ax = plt.subplots()\n",
    "x = [\"es\", \"yj\", \"sk\", \"jw\", \"mj\"]\n",
    "y_1 = [100,200,300,400,500]\n",
    "y_2 = [121, 221, 321, 421, 521]\n",
    "\n",
    "\n",
    "colors = {'fruit':'red', 'vegetable':'green'}     \n",
    "labels = list(colors.keys())\n",
    "handles = [plt.Rectangle((0,0), 0, 0, color=colors[label]) for label in labels]\n",
    "plt.legend(handles, labels)\n",
    "\n",
    "x_axis = np.arange(len(x))\n",
    "a = plt.bar(x_axis - 0.2, y_1, 0.4, color=colors['fruit'])\n",
    "b = plt.bar(x_axis + 0.2, y_2, 0.4, color=colors['vegetable'])\n",
    "\n",
    "plt.xticks(x_axis, x)\n",
    "val_list = []\n",
    "for i, (v_1, v_2) in enumerate(zip(y_1, y_2)):\n",
    "    b1 = plt.text(x_axis[i]-0.2, y_1[i], y_1[i],                 # 좌표 (x축 = v, y축 = y[0]..y[1], 표시 = y[0]..y[1])\n",
    "             fontsize = 9, \n",
    "             color='red',\n",
    "             horizontalalignment='center',  # horizontalalignment (left, center, right)\n",
    "             verticalalignment='bottom')\n",
    "    b2 = plt.text(x_axis[i]+0.2, y_2[i], y_2[i],                 # 좌표 (x축 = v, y축 = y[0]..y[1], 표시 = y[0]..y[1])\n",
    "             fontsize = 9, \n",
    "             color='green',\n",
    "             horizontalalignment='center',  # horizontalalignment (left, center, right)\n",
    "             verticalalignment='bottom')\n",
    "    val_list.append(b1)\n",
    "    val_list.append(b2)\n",
    "\n",
    "fig.savefig('./out.png', format='png', dpi=dpi)\n"
   ]
  },
  {
   "cell_type": "code",
   "execution_count": null,
   "metadata": {},
   "outputs": [],
   "source": [
    "bbox = fig.get_window_extent().transformed(fig.dpi_scale_trans.inverted())\n",
    "width, height = bbox.width*fig.dpi, bbox.height*fig.dpi\n",
    "width, height"
   ]
  },
  {
   "cell_type": "code",
   "execution_count": null,
   "metadata": {},
   "outputs": [],
   "source": [
    "ax.get_legend().get_window_extent().get_points()"
   ]
  },
  {
   "cell_type": "code",
   "execution_count": null,
   "metadata": {},
   "outputs": [],
   "source": [
    "ax.get_legend().findobj()[4].get_window_extent().get_points()"
   ]
  },
  {
   "cell_type": "code",
   "execution_count": null,
   "metadata": {},
   "outputs": [],
   "source": [
    "val_list[2].get_window_extent().get_points()"
   ]
  },
  {
   "cell_type": "code",
   "execution_count": null,
   "metadata": {},
   "outputs": [],
   "source": [
    "ax.get_legend().get_window_extent()"
   ]
  },
  {
   "cell_type": "code",
   "execution_count": null,
   "metadata": {},
   "outputs": [],
   "source": [
    "b.get_window_extent().get_points()"
   ]
  },
  {
   "cell_type": "code",
   "execution_count": null,
   "metadata": {},
   "outputs": [],
   "source": [
    "a[0].get_bbox()"
   ]
  },
  {
   "cell_type": "code",
   "execution_count": null,
   "metadata": {},
   "outputs": [],
   "source": [
    "ax.get_xticklabels()[0].get_window_extent()"
   ]
  },
  {
   "cell_type": "code",
   "execution_count": null,
   "metadata": {},
   "outputs": [],
   "source": [
    "import matplotlib as mpl\n",
    "import numpy as np\n",
    "import matplotlib.pyplot as plt\n",
    "\n",
    "def f(t):\n",
    "    return np.exp(-t) * np.cos(2*np.pi*t)\n",
    "\n",
    "t1 = np.arange(0.0, 5.0, 0.1)\n",
    "t2 = np.arange(0.0, 5.0, 0.02)"
   ]
  },
  {
   "cell_type": "code",
   "execution_count": null,
   "metadata": {},
   "outputs": [],
   "source": [
    "dpi = 100\n",
    "mpl.rcParams['figure.dpi'] = dpi\n",
    "\n",
    "fig, ax = plt.subplots()\n",
    "plt.plot(t1, f(t1), 'bo', t2, f(t2), 'k')\n",
    "\n",
    "# saving the figure: don't forget the dpi option!\n",
    "fig.savefig('./out.png', format='png', dpi=dpi)\n",
    "\n",
    "\n",
    "ymin, _ = ax.get_ylim()\n",
    "print('xticks pixel coordinates')\n",
    "print(ax.transData.transform([(xtick, ymin) for xtick in xtickslocs]))\n",
    "print('label bounding boxes')\n",
    "print([l.get_window_extent() for l in ax.get_xticklabels()])"
   ]
  },
  {
   "cell_type": "code",
   "execution_count": null,
   "metadata": {},
   "outputs": [],
   "source": [
    "ax.get_xticklabels()[5].get_window_extent(), ax.get_xticklabels()[6].get_window_extent()"
   ]
  },
  {
   "cell_type": "code",
   "execution_count": null,
   "metadata": {},
   "outputs": [],
   "source": [
    "ax.get_xticklabels()[6]"
   ]
  },
  {
   "cell_type": "code",
   "execution_count": null,
   "metadata": {},
   "outputs": [],
   "source": [
    "ax.get_xticklabels()[7].get_window_extent()"
   ]
  },
  {
   "cell_type": "code",
   "execution_count": null,
   "metadata": {},
   "outputs": [],
   "source": [
    "ax.get_xticklabels()[0].get_window_extent()"
   ]
  },
  {
   "cell_type": "code",
   "execution_count": null,
   "metadata": {},
   "outputs": [],
   "source": [
    "ytickslocs[0]"
   ]
  },
  {
   "cell_type": "code",
   "execution_count": null,
   "metadata": {},
   "outputs": [],
   "source": [
    "from matplotlib.patches import Rectangle\n",
    "import matplotlib.pyplot as plt\n",
    "import matplotlib.colors as mcolors\n",
    "\n",
    "def plot_colortable(colors, sort_colors=True, emptycols=0):\n",
    "\n",
    "    cell_width = 212\n",
    "    cell_height = 22\n",
    "    swatch_width = 48\n",
    "    margin = 12\n",
    "\n",
    "    # Sort colors by hue, saturation, value and name.\n",
    "    if sort_colors is True:\n",
    "        by_hsv = sorted((tuple(mcolors.rgb_to_hsv(mcolors.to_rgb(color))),\n",
    "                         name)\n",
    "                        for name, color in colors.items())\n",
    "        names = [name for hsv, name in by_hsv]\n",
    "    else:\n",
    "        names = list(colors)\n",
    "\n",
    "    n = len(names)\n",
    "    ncols = 4 - emptycols\n",
    "    nrows = n // ncols + int(n % ncols > 0)\n",
    "\n",
    "    width = cell_width * 4 + 2 * margin\n",
    "    height = cell_height * nrows + 2 * margin\n",
    "    dpi = 72\n",
    "\n",
    "    fig, ax = plt.subplots(figsize=(width / dpi, height / dpi), dpi=dpi)\n",
    "    fig.subplots_adjust(margin/width, margin/height,\n",
    "                        (width-margin)/width, (height-margin)/height)\n",
    "    ax.set_xlim(0, cell_width * 4)\n",
    "    ax.set_ylim(cell_height * (nrows-0.5), -cell_height/2.)\n",
    "    ax.yaxis.set_visible(False)\n",
    "    ax.xaxis.set_visible(False)\n",
    "    ax.set_axis_off()\n",
    "\n",
    "    for i, name in enumerate(names):\n",
    "        row = i % nrows\n",
    "        col = i // nrows\n",
    "        y = row * cell_height\n",
    "\n",
    "        swatch_start_x = cell_width * col\n",
    "        text_pos_x = cell_width * col + swatch_width + 7\n",
    "\n",
    "        ax.text(text_pos_x, y, name, fontsize=14,\n",
    "                horizontalalignment='left',\n",
    "                verticalalignment='center')\n",
    "\n",
    "        ax.add_patch(\n",
    "            Rectangle(xy=(swatch_start_x, y-9), width=swatch_width,\n",
    "                      height=18, facecolor=colors[name], edgecolor='0.7')\n",
    "        )\n",
    "    print(names)\n",
    "    return fig\n",
    "plot_colortable(mcolors.CSS4_COLORS)\n",
    "plt.show()\n"
   ]
  },
  {
   "cell_type": "code",
   "execution_count": null,
   "metadata": {},
   "outputs": [],
   "source": []
  },
  {
   "cell_type": "code",
   "execution_count": null,
   "metadata": {},
   "outputs": [],
   "source": [
    "import matplotlib.font_manager\n",
    "\n",
    "[f.name for f in matplotlib.font_manager.fontManager.ttflist if 'Nanum' in f.name]"
   ]
  },
  {
   "cell_type": "code",
   "execution_count": null,
   "metadata": {},
   "outputs": [],
   "source": [
    "%matplotlib inline\n",
    "import platform\n",
    "platform.platform()\n",
    "import sys\n",
    "sys.version_info\n",
    "import matplotlib\n",
    "\n",
    "print ('버전: ', matplotlib.__version__)\n",
    "print ('설치위치: ', matplotlib.__file__)\n",
    "print ('설정: ', matplotlib.get_configdir())\n",
    "print ('캐시: ', matplotlib.get_cachedir())\n",
    "import numpy as np\n",
    "\n",
    "data = np.random.randint(-100, 100, 50).cumsum()\n",
    "import matplotlib.pyplot as plt\n",
    "\n",
    "plt.plot(range(50), data, 'r')\n",
    "plt.title('가격변동 추이')\n",
    "plt.ylabel('가격')\n",
    "plt.show()\n"
   ]
  }
 ],
 "metadata": {
  "kernelspec": {
   "display_name": "Python 3.6.9 ('crct')",
   "language": "python",
   "name": "python3"
  },
  "language_info": {
   "codemirror_mode": {
    "name": "ipython",
    "version": 3
   },
   "file_extension": ".py",
   "mimetype": "text/x-python",
   "name": "python",
   "nbconvert_exporter": "python",
   "pygments_lexer": "ipython3",
   "version": "3.6.9"
  },
  "orig_nbformat": 4,
  "vscode": {
   "interpreter": {
    "hash": "1e0bc7f940258dbf34e61dcfb5dbd3a52f3babac1c49906fe077f23b7653b310"
   }
  }
 },
 "nbformat": 4,
 "nbformat_minor": 2
}
